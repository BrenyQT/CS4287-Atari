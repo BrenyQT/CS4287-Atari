{
  "nbformat": 4,
  "nbformat_minor": 0,
  "metadata": {
    "colab": {
      "provenance": [],
      "authorship_tag": "ABX9TyN9VR7m5zq/wplasG5dh8Yz",
      "include_colab_link": true
    },
    "kernelspec": {
      "name": "python3",
      "display_name": "Python 3"
    },
    "language_info": {
      "name": "python"
    }
  },
  "cells": [
    {
      "cell_type": "markdown",
      "metadata": {
        "id": "view-in-github",
        "colab_type": "text"
      },
      "source": [
        "<a href=\"https://colab.research.google.com/github/BrenyQT/CS4287-Atari/blob/main/Atari.ipynb\" target=\"_parent\"><img src=\"https://colab.research.google.com/assets/colab-badge.svg\" alt=\"Open In Colab\"/></a>"
      ]
    },
    {
      "cell_type": "markdown",
      "source": [
        "1. Why Reinforcement Learning is the machine learning paradigm of choice for this task (3 marks)\n"
      ],
      "metadata": {
        "id": "yraE5Gjq-2oH"
      }
    },
    {
      "cell_type": "markdown",
      "source": [
        "2. The Gym Environment (3 marks):\n"
      ],
      "metadata": {
        "id": "W4u3HumH-5Ww"
      }
    },
    {
      "cell_type": "markdown",
      "source": [
        "3. Implementation (15 marks):<br>\n",
        "a. Capture and pre-processing of the data (3 marks).<br><br>\n",
        "b. The network structure (4 marks).<br><br>\n",
        "c. A very clear and extremely detailed discussion on the code where the Q learning update\n",
        "applied to the weights (3 marks).<br> For example: what is the update, how is the error\n",
        "calculated?<br><br>\n",
        "d. Independently researched concepts such as random seed initialisation, the impact of\n",
        "regularisers on scores, and techniques to counter catastrophic forgetting and maximisation\n",
        "bias (5 marks).<br><br> An attempt must be made to code and evaluate the efficacy of one of these\n",
        "concepts.<br>\n",
        "Coding fragments and/or diagrams should be included to illustrate the concepts under\n",
        "discussion<br><br>\n",
        "4. Plots (3 marks)<br><br>\n",
        "5. Videos and plots with short accompanying explanations of the information conveyed (1 marks).<br><br>\n",
        "6. Evaluation of the results (5 marks):<br>\n",
        "a. How does one evaluate the performance of the RL agent?<br>\n",
        "b. Are the metrics that we have seen to date relevant?<br><br>\n",
        "7. References (P/F)"
      ],
      "metadata": {
        "id": "XLs3eqtO-_O9"
      }
    },
    {
      "cell_type": "code",
      "source": [],
      "metadata": {
        "id": "cje1nr9g_BIh"
      },
      "execution_count": null,
      "outputs": []
    }
  ]
}